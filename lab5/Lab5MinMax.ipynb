{
 "cells": [
  {
   "cell_type": "markdown",
   "metadata": {
    "id": "0Y435U2gHFou"
   },
   "source": [
    "# Artificial Intelligence - Laboratory 05\n",
    "\n",
    "## _Searching algorithms for optimal decision-making in game theory and AI_\n"
   ]
  },
  {
   "cell_type": "markdown",
   "metadata": {
    "id": "LSIproEOHFox"
   },
   "source": [
    "## Introduction\n",
    "\n",
    "In gaming tehory, the _decision-making process_ relies on the searching algorithm guiding the investigation of the search-space.\n",
    "\n",
    "Today's challenge sets the **MinMax Algorithm** as the main character of a  two-player game.\n",
    "\n",
    "Using tic-tac-toe as an example, the algorithm should compute the next best move by evaluating the utility of the board."
   ]
  },
  {
   "cell_type": "markdown",
   "metadata": {
    "id": "ORg7E4NcHFpI"
   },
   "source": [
    "For this problem the utility value can be:\n",
    "\n",
    "* _-1_ if player that seeks minimum wins;\n",
    "* _0_ if it's a tie;\n",
    "* _1_ if player that seeks maximum wins.\n",
    "\n"
   ]
  },
  {
   "cell_type": "code",
   "execution_count": 57,
   "metadata": {},
   "outputs": [],
   "source": [
    "board = [\" \" for _ in range(9)]"
   ]
  },
  {
   "cell_type": "code",
   "execution_count": 58,
   "metadata": {},
   "outputs": [
    {
     "name": "stdout",
     "output_type": "stream",
     "text": [
      "  |   |  \n",
      "---------\n",
      "  |   |  \n",
      "---------\n",
      "  |   |  \n"
     ]
    }
   ],
   "source": [
    "def display_board(board):\n",
    "    for i in range(0, 9, 3):\n",
    "        print(\" | \".join(board[i:i+3]))\n",
    "        if i < 6:\n",
    "            print(\"-\" * 9)\n",
    "display_board(board)"
   ]
  },
  {
   "cell_type": "code",
   "execution_count": 59,
   "metadata": {},
   "outputs": [],
   "source": [
    "# the method should return True or False based on who won the game\n",
    "def check_win(board, player):\n",
    "    # TO DO \n",
    "    win_conditions = [\n",
    "        [0, 1, 2], [3, 4, 5], [6, 7, 8],  # winning rows\n",
    "        [0, 3, 6], [1, 4, 7], [2, 5, 8],  # winning columns\n",
    "        [0, 4, 8], [2, 4, 6]              # winning diagonals\n",
    "    ]\n",
    "    for combo in win_conditions:\n",
    "        if all(board[i] == player for i in combo):\n",
    "            return True\n",
    "    return False"
   ]
  },
  {
   "cell_type": "code",
   "execution_count": 60,
   "metadata": {},
   "outputs": [],
   "source": [
    "# Function to check for a draw\n",
    "def check_draw(board):\n",
    "     # TO DO\n",
    "    return \" \" not in board and not check_win(board, \"X\") and not check_win(board, \"O\")"
   ]
  },
  {
   "cell_type": "markdown",
   "metadata": {
    "id": "06WTByxMHFph"
   },
   "source": [
    "## Min-Max Algorithm\n",
    "\n",
    "\n",
    "Build the search game tree to determine the best move using:\n",
    "\n",
    "* the AI's strategy is to _maximise_ its score while the opponent's score minimises;\n",
    "* the human's strategy is to _minimise_ AI's score."
   ]
  },
  {
   "cell_type": "code",
   "execution_count": 61,
   "metadata": {},
   "outputs": [],
   "source": [
    "# Function for the minimax algorithm\n",
    "def minimax(board, depth, maximizing_player):\n",
    "    # Base cases: check for terminal states\n",
    "    if check_win(board, \"O\"):\n",
    "        return 1\n",
    "    if check_win(board, \"X\"):\n",
    "        return -1\n",
    "    if check_draw(board):\n",
    "        return 0\n",
    "\n",
    "    if maximizing_player:\n",
    "        #TO DO\n",
    "        best_eval = -float(\"inf\")\n",
    "        for i in range(9):\n",
    "            if board[i] == \" \":\n",
    "                board[i] = \"O\"\n",
    "                evaluation = minimax(board, depth + 1, False)\n",
    "                board[i] = \" \"\n",
    "                if evaluation > best_eval:\n",
    "                    best_eval = evaluation\n",
    "        return best_eval\n",
    "    else:\n",
    "        #TO DO\n",
    "        best_eval = float(\"inf\")\n",
    "        for i in range(9):\n",
    "            if board[i] == \" \":\n",
    "                board[i] = \"X\"\n",
    "                evaluation = minimax(board, depth + 1, True)\n",
    "                board[i] = \" \"\n",
    "                if evaluation < best_eval:\n",
    "                    best_eval = evaluation\n",
    "        return best_eval"
   ]
  },
  {
   "cell_type": "markdown",
   "metadata": {
    "id": "06WTByxMHFph"
   },
   "source": [
    "Improve your algorithm with alpha-beta pruning "
   ]
  },
  {
   "cell_type": "code",
   "execution_count": 62,
   "metadata": {},
   "outputs": [],
   "source": [
    "def minimaxAB(board, depth, maximizing_player, alpha, beta):\n",
    "    #TO DO\n",
    "    # Base cases: check for terminal states\n",
    "    if check_win(board, \"O\"):\n",
    "        return 1\n",
    "    if check_win(board, \"X\"):\n",
    "        return -1\n",
    "    if check_draw(board):\n",
    "        return 0\n",
    "\n",
    "    if maximizing_player:\n",
    "        best_eval = -float(\"inf\")\n",
    "        for i in range(9):\n",
    "            if board[i] == \" \":\n",
    "                board[i] = \"O\"\n",
    "                evaluation = minimaxAB(board, depth + 1, False, alpha, beta)\n",
    "                board[i] = \" \"\n",
    "                if evaluation > best_eval:\n",
    "                    best_eval = evaluation\n",
    "                alpha = max(alpha, best_eval)\n",
    "                if alpha >= beta:\n",
    "                    break  # beta cut-off\n",
    "        return best_eval\n",
    "    else:\n",
    "        best_eval = float(\"inf\")\n",
    "        for i in range(9):\n",
    "            if board[i] == \" \":\n",
    "                board[i] = \"X\"\n",
    "                evaluation = minimaxAB(board, depth + 1, True, alpha, beta)\n",
    "                board[i] = \" \"\n",
    "                if evaluation < best_eval:\n",
    "                    best_eval = evaluation\n",
    "                beta = min(beta, best_eval)\n",
    "                if alpha >= beta:\n",
    "                    break  # alpha cut-off\n",
    "        return best_eval\n"
   ]
  },
  {
   "cell_type": "code",
   "execution_count": 63,
   "metadata": {},
   "outputs": [],
   "source": [
    "# Function to find the best move using the minimax algorithm\n",
    "import math\n",
    "def best_move(board):\n",
    "    best_eval = float(\"-inf\")\n",
    "    best_move = -1\n",
    "    for i in range(9):\n",
    "        if board[i] == \" \":\n",
    "            board[i] = \"O\"\n",
    "            evaluation = minimax(board, 0, False) #or minimax(board, 0, False, -math.inf, math.inf)\n",
    "            board[i] = \" \"\n",
    "            if evaluation > best_eval:\n",
    "                best_eval = evaluation\n",
    "                best_move = i\n",
    "    return best_move"
   ]
  },
  {
   "cell_type": "code",
   "execution_count": 64,
   "metadata": {},
   "outputs": [
    {
     "name": "stdout",
     "output_type": "stream",
     "text": [
      "  |   |  \n",
      "---------\n",
      "  |   |  \n",
      "---------\n",
      "  |   |  \n",
      "  |   |  \n",
      "---------\n",
      "  | O |  \n",
      "---------\n",
      "  |   | X\n",
      "  |   |  \n",
      "---------\n",
      "  | O |  \n",
      "---------\n",
      "O | X | X\n",
      "  |   | O\n",
      "---------\n",
      "  | O | X\n",
      "---------\n",
      "O | X | X\n",
      "AI wins!\n"
     ]
    }
   ],
   "source": [
    "while True:\n",
    "    display_board(board)\n",
    "    player_move = int(input(\"Enter your move (0-8): \"))\n",
    "    \n",
    "    if board[player_move] != \" \":\n",
    "        print(\"Invalid move. Try again.\")\n",
    "        continue\n",
    "    \n",
    "    board[player_move] = \"X\"\n",
    "    \n",
    "    if check_win(board, \"X\"):\n",
    "        display_board(board)\n",
    "        print(\"You win!\")\n",
    "        break\n",
    "    \n",
    "    if check_draw(board):\n",
    "        display_board(board)\n",
    "        print(\"It's a draw!\")\n",
    "        break\n",
    "    \n",
    "    ai_move = best_move(board)\n",
    "    board[ai_move] = \"O\"\n",
    "    \n",
    "    if check_win(board, \"O\"):\n",
    "        display_board(board)\n",
    "        print(\"AI wins!\")\n",
    "        break\n",
    "    \n",
    "    if check_draw(board):\n",
    "        display_board(board)\n",
    "        print(\"It's a draw!\")\n",
    "        break"
   ]
  },
  {
   "cell_type": "markdown",
   "metadata": {},
   "source": [
    "Change the human player with a random player"
   ]
  },
  {
   "cell_type": "code",
   "execution_count": null,
   "metadata": {},
   "outputs": [],
   "source": [
    "#TO DO: \n",
    "import random\n",
    "\n",
    "def random_move(board):\n",
    "    available = [i for i, v in enumerate(board) if v == \" \"]\n",
    "    return random.choice(available) if available else -1\n",
    "\n",
    "# Play one game: random player = \"X\", AI = \"O\"\n",
    "board = [\" \" for _ in range(9)]\n",
    "while True:\n",
    "    display_board(board)\n",
    "\n",
    "    # Random player's turn\n",
    "    player_move = random_move(board)\n",
    "    if player_move == -1:\n",
    "        display_board(board)\n",
    "        print(\"No moves left. It's a draw.\")\n",
    "        break\n",
    "    print(f\"Random player chooses: {player_move}\")\n",
    "    board[player_move] = \"X\"\n",
    "\n",
    "    if check_win(board, \"X\"):\n",
    "        display_board(board)\n",
    "        print(\"Random player wins!\")\n",
    "        break\n",
    "    if check_draw(board):\n",
    "        display_board(board)\n",
    "        print(\"It's a draw!\")\n",
    "        break\n",
    "\n",
    "    # AI's turn\n",
    "    ai_move = best_move(board)\n",
    "    if ai_move == -1:\n",
    "        display_board(board)\n",
    "        print(\"No moves left. It's a draw.\")\n",
    "        break\n",
    "    print(f\"AI chooses: {ai_move}\")\n",
    "    board[ai_move] = \"O\"\n",
    "\n",
    "    if check_win(board, \"O\"):\n",
    "        display_board(board)\n",
    "        print(\"AI wins!\")\n",
    "        break\n",
    "    if check_draw(board):\n",
    "        display_board(board)\n",
    "        print(\"It's a draw!\")\n",
    "        break\n"
   ]
  },
  {
   "cell_type": "markdown",
   "metadata": {},
   "source": [
    "Modify the minimax method so that it uses the depth parameter. Test how a depth of 3 compares to a player than can make moves until the game is over."
   ]
  },
  {
   "cell_type": "code",
   "execution_count": null,
   "metadata": {},
   "outputs": [],
   "source": [
    "#TO DO: \n",
    "def minimax(board, depth, maximizing_player, max_depth=None):\n",
    "    # Base cases: check for terminal states\n",
    "    if check_win(board, \"O\"):\n",
    "        return 1\n",
    "    if check_win(board, \"X\"):\n",
    "        return -1\n",
    "    if check_draw(board):\n",
    "        return 0\n",
    "\n",
    "    # Stop search when reaching max depth (simple neutral heuristic)\n",
    "    if max_depth is not None and depth >= max_depth:\n",
    "        return 0\n",
    "\n",
    "    if maximizing_player:\n",
    "        best_eval = -float(\"inf\")\n",
    "        for i in range(9):\n",
    "            if board[i] == \" \":\n",
    "                board[i] = \"O\"\n",
    "                evaluation = minimax(board, depth + 1, False, max_depth)\n",
    "                board[i] = \" \"\n",
    "                if evaluation > best_eval:\n",
    "                    best_eval = evaluation\n",
    "        return best_eval\n",
    "    else:\n",
    "        best_eval = float(\"inf\")\n",
    "        for i in range(9):\n",
    "            if board[i] == \" \":\n",
    "                board[i] = \"X\"\n",
    "                evaluation = minimax(board, depth + 1, True, max_depth)\n",
    "                board[i] = \" \"\n",
    "                if evaluation < best_eval:\n",
    "                    best_eval = evaluation\n",
    "        return best_eval\n",
    "// ...existing code...\n",
    "import math\n",
    "def best_move(board, max_depth=None):\n",
    "    best_eval = -float(\"-inf\")\n",
    "    best_move = -1\n",
    "    for i in range(9):\n",
    "        if board[i] == \" \":\n",
    "            board[i] = \"O\"\n",
    "            # start at depth=1 because we've just played one move\n",
    "            evaluation = minimax(board, 1, False, max_depth)\n",
    "            board[i] = \" \"\n",
    "            if evaluation > best_eval:\n",
    "                best_eval = evaluation\n",
    "                best_move = i\n",
    "    return best_move"
   ]
  }
 ],
 "metadata": {
  "colab": {
   "collapsed_sections": [],
   "name": "Lab06_AI.ipynb",
   "provenance": []
  },
  "kernelspec": {
   "display_name": "base",
   "language": "python",
   "name": "python3"
  },
  "language_info": {
   "codemirror_mode": {
    "name": "ipython",
    "version": 3
   },
   "file_extension": ".py",
   "mimetype": "text/x-python",
   "name": "python",
   "nbconvert_exporter": "python",
   "pygments_lexer": "ipython3",
   "version": "3.12.7"
  }
 },
 "nbformat": 4,
 "nbformat_minor": 4
}
