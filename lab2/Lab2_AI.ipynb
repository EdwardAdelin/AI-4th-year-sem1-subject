{
 "cells": [
  {
   "cell_type": "markdown",
   "metadata": {
    "id": "gVtTU731ugud"
   },
   "source": [
    "# Artificial Intelligence - Laboratory 02:Python Introduction part II\n"
   ]
  },
  {
   "cell_type": "markdown",
   "metadata": {},
   "source": [
    "##### Review"
   ]
  },
  {
   "cell_type": "markdown",
   "metadata": {},
   "source": [
    "The following formula computes a _Z score_ and measures how far a single raw data value is from the population mean.\n",
    "\n",
    "\\begin{equation*}\n",
    "z = \\frac{X - \\mu }{\\sigma }\n",
    "\\end{equation*}\n",
    "\n",
    "where:\n",
    "* **_X_** is a single raw data value\n",
    "* `mu` is the population mean\n",
    "* `sigma` is the population standard deviation\n",
    "\n",
    "To find the standard deviation, the equation below comes in hand:\n",
    "\n",
    "\\begin{equation*}\n",
    "\\sigma = \\sqrt{\\frac{\\sum \\left | X - \\mu \\right |^{2}}{N}}\n",
    "\\end{equation*}\n",
    "\n",
    "where **_N_** is the number of data points in the population."
   ]
  },
  {
   "cell_type": "markdown",
   "metadata": {},
   "source": [
    "**a.** Using `sum()` and `list comprehension`, compute the mean and the standard deviation for the population defined below:"
   ]
  },
  {
   "cell_type": "code",
   "execution_count": null,
   "metadata": {},
   "outputs": [
    {
     "name": "stdout",
     "output_type": "stream",
     "text": [
      "[4.5, 5, 5.5, 6, 6.25, 7, 15.25, 18, 18.45, 21, 21.45, 23]\n"
     ]
    }
   ],
   "source": [
    "data =  [4.5, 5, 5.5, 6, 6.25, 7, 15.25, 18, 18.45, 21, 21.45, 23]\n",
    "print(data)"
   ]
  },
  {
   "cell_type": "code",
   "execution_count": null,
   "metadata": {},
   "outputs": [
    {
     "name": "stdout",
     "output_type": "stream",
     "text": [
      "Mean: 12.616666666666667\n",
      "Standard Deviation: 7.167441818544622\n"
     ]
    }
   ],
   "source": [
    "# Your implementation here:\n",
    "# using sum and list comprehension compute the mean\n",
    "mean = sum(data) / len(data) \n",
    "# standard deviation\n",
    "std = sum((x - mean) ** 2 for x in data) / len(data)\n",
    "\n",
    "print(\"Mean:\", mean)\n",
    "print(\"Standard Deviation:\", std ** 0.5)\n"
   ]
  },
  {
   "cell_type": "markdown",
   "metadata": {},
   "source": [
    "**b.** Define the `z_score()` function and implement the mathematical expression. The obtained values should be stored in a _z score_ values list and rounded to 3 decimals."
   ]
  },
  {
   "cell_type": "code",
   "execution_count": null,
   "metadata": {},
   "outputs": [
    {
     "name": "stdout",
     "output_type": "stream",
     "text": [
      "Z-scores: [-1.132, -1.063, -0.993, -0.923, -0.888, -0.784, 0.367, 0.751, 0.814, 1.17, 1.232, 1.449]\n"
     ]
    }
   ],
   "source": [
    "# Your implementatio here:\n",
    "# z_score() means ....\n",
    "# Z score formula measures how far a single raw data value is from the population mean (first formula in the lab)\n",
    "# obtained values should be stored in a z score values list and rounded to 3 decimal\n",
    "def z_score(x):\n",
    "    return round((x - mean) / (std ** 0.5), 3) # the 3 means rounding to 3 decimal places\n",
    "\n",
    "z_scores = [z_score(x) for x in data] # here we create the values list using list comprehension, calling z_score function\n",
    "print(\"Z-scores:\", z_scores)\n",
    "    "
   ]
  },
  {
   "cell_type": "markdown",
   "metadata": {},
   "source": [
    "**c.** Add the corresponding elongation of each raw data value into a dictionary."
   ]
  },
  {
   "cell_type": "code",
   "execution_count": null,
   "metadata": {},
   "outputs": [
    {
     "name": "stdout",
     "output_type": "stream",
     "text": [
      "Data Dictionary (value: z-score): {4.5: -1.132, 5: -1.063, 5.5: -0.993, 6: -0.923, 6.25: -0.888, 7: -0.784, 15.25: 0.367, 18: 0.751, 18.45: 0.814, 21: 1.17, 21.45: 1.232, 23: 1.449}\n"
     ]
    }
   ],
   "source": [
    "# Your implementatio here:\n",
    "# add the corresponding elongation of each raw data value in a dictionary\n",
    "\n",
    "#creating a dictionary containing initial values and their z scores\n",
    "data_dict = {x: z_score(x) for x in data} # using dictionary comprehension\n",
    "print(\"Data Dictionary (value: z-score):\", data_dict)\n"
   ]
  },
  {
   "cell_type": "markdown",
   "metadata": {
    "id": "18ICxssnuguh"
   },
   "source": [
    "## Classes\n",
    "\n",
    "The object-oriented programming paradigm in Python helps with structuring programs into `individual objects`. But how?\n",
    "\n",
    "* An Object **O** from a class **C** has a set of properties **_p_** and actions **_a_**.\n",
    "\n",
    "* The functions of a class are called `methods`. Their responsibility is to model the data corresponding to a given object.\n",
    "\n",
    "* The objects of a class are known as `instances` and represent the source of collecting data.\n",
    "\n",
    "```python\n",
    "\n",
    "class EmptyClas:\n",
    "    \"\"\"\n",
    "    This is a class without variables and methods\n",
    "    \"\"\"\n",
    "    pass # The keyword pass is a placeholder\n",
    "\n",
    "\n",
    "class MyClass:\n",
    "    # A class variable\n",
    "    name = 'My Class'\n",
    "    \n",
    "    def my_method(self, my_var):\n",
    "        # An instance variable\n",
    "        self.my_instance = my_var\n",
    "```"
   ]
  },
  {
   "cell_type": "code",
   "execution_count": null,
   "metadata": {
    "id": "XhgoWxJGuguk"
   },
   "outputs": [
    {
     "name": "stderr",
     "output_type": "stream",
     "text": [
      "<>:4: SyntaxWarning: invalid escape sequence '\\ '\n",
      "<>:4: SyntaxWarning: invalid escape sequence '\\ '\n",
      "C:\\Users\\PC\\AppData\\Local\\Temp\\ipykernel_7832\\1036726511.py:4: SyntaxWarning: invalid escape sequence '\\ '\n",
      "  \"\"\"\n"
     ]
    }
   ],
   "source": [
    "# Implement Task 0 b and c here:\n",
    "\n",
    "class ScientificConference:\n",
    "    \"\"\"\n",
    "    To define the properties of a class, \n",
    "    we use a special method called __init__.\n",
    "    \n",
    "    The special variable called \"self\"\n",
    "    helps with associating the attributes\n",
    "    w\\ the new object: similar to `this`\n",
    "    keyword from other programming languages\n",
    "    and required to address variables from\n",
    "    classes. \n",
    "    \"\"\"\n",
    "    def __init__(self, name, year):\n",
    "        \"\"\"\n",
    "        Establish the attributes of the\n",
    "        class and assign values to the \n",
    "        corresponding parameters.\n",
    "        \"\"\" \n",
    "        self.name = name\n",
    "        self.year = year\n",
    "        \"\"\"\n",
    "        b. Add new attribute `papers`\n",
    "        \"\"\"\n",
    "        \"\"\" *b.** Create a new attribute for the `class ScientificConference`, which is a dictionary\n",
    "        passed as a parameter to the instances of the class and holds all of the papers of the conference.\n",
    "\n",
    "        _Note:_ You should check if `papers` is `None` in `__init__` and set it to `{}` instead.\n",
    "\n",
    "        _Please handle duplicate entries by removing them!_\"\"\"\n",
    "        #check if `papers` is `None` in `__init__` and set it to `{}` instead\n",
    "        # also, handle duplicate entries by removing them\n",
    "        papers = None\n",
    "        self.papers = papers if papers is not None else {}\n",
    "        self.papers = {k: v for k, v in self.papers.items() if v not in self.papers.values()}\n",
    "\n",
    "\n",
    "    def add_manuscript(self, title, researcher):\n",
    "        #**c.** Define the `add_manuscript` method which generates new entries in the dictionary described before. \n",
    "        # Please consider using the _researcher_ as a `key` and the _title_ as `values`.\n",
    "        if researcher not in self.papers:\n",
    "            self.papers[researcher] = []\n",
    "        if title not in self.papers[researcher]:\n",
    "            self.papers[researcher].append(title)\n",
    "\n",
    "    def __str__(self):\n",
    "        \"\"\"\n",
    "        To return the String representation of\n",
    "        an object, we use the __str__ method. \n",
    "        \"\"\"\n",
    "        result = self.name + ' ' + str(self.year) + ': \\n'\n",
    "        for author, papers in self.papers.items():\n",
    "            result += f'{author}: {\", \".join([str(paper) for paper in papers])} \\n'\n",
    "        return result"
   ]
  },
  {
   "cell_type": "markdown",
   "metadata": {
    "id": "6xdy3BZ7ugu1"
   },
   "source": [
    "### Task 0\n",
    "\n",
    "**a.** Define two new `instances` of the `class ScientificConference` and return their representations.\n",
    "\n",
    "Your output should look like:\n",
    "\n",
    "`Proposals for ICML and NeurIPS conferences will be accepted until the end of November 2021.`\n",
    "\n",
    "_Hint:_ `instance.attribute` helps you extracting a certain property."
   ]
  },
  {
   "cell_type": "code",
   "execution_count": null,
   "metadata": {
    "id": "ezLUEAgkugu5"
   },
   "outputs": [
    {
     "name": "stdout",
     "output_type": "stream",
     "text": [
      "Mamaliguta cu ciolan stiintific 1998: \n",
      "\n",
      "Ambiguitate cosmica inferioara 2008: \n",
      "\n"
     ]
    }
   ],
   "source": [
    "# Your implementation here\n",
    "\n",
    "#two new instances of the class ScientificConference\n",
    "conf1 = ScientificConference(\"Mamaliguta cu ciolan stiintific\", 1998)\n",
    "conf2 = ScientificConference(\"Ambiguitate cosmica inferioara\", 2008)\n",
    "#returning representation of conf1 and conf2 (but this needs to be done after solving task 0 b and c)\n",
    "# shal return the stuff from _str_ method\n",
    "print(conf1)\n",
    "print(conf2)\n"
   ]
  },
  {
   "cell_type": "markdown",
   "metadata": {
    "id": "7ZvLz1GZugvC"
   },
   "source": [
    "**b.** Create a new attribute for the `class ScientificConference`, which is a dictionary passed as a parameter to the instances of the class and holds all of the papers of the conference.\n",
    "\n",
    "_Note:_ You should check if `papers` is `None` in `__init__` and set it to `{}` instead.\n",
    "\n",
    "_Please handle duplicate entries by removing them!_"
   ]
  },
  {
   "cell_type": "markdown",
   "metadata": {
    "id": "Tw7tlZtTugvF"
   },
   "source": [
    "**c.** Define the `add_manuscript` method which generates new entries in the dictionary described before. Please consider using the _researcher_ as a `key` and the _title_ as `values`."
   ]
  },
  {
   "cell_type": "code",
   "execution_count": null,
   "metadata": {},
   "outputs": [
    {
     "name": "stdout",
     "output_type": "stream",
     "text": [
      "AI Conference 2023: \n",
      "Alice: AI for FILS students \n",
      "\n"
     ]
    }
   ],
   "source": [
    "# Verify here if your add_manuscript method works: add an item & print it\n",
    "\n",
    "conference = ScientificConference(\"AI Conference\", 2023)\n",
    "conference.add_manuscript(\"AI for FILS students\", \"Alice\")\n",
    "print(conference)"
   ]
  },
  {
   "cell_type": "markdown",
   "metadata": {
    "id": "HUKrHifWugvP"
   },
   "source": [
    "### Task 1\n",
    "\n",
    "**a.** Define the class `Person` which stores the `title`, `name` and `surname` of a person.\n",
    "\n",
    "The _tuple_ `allowed_titles` is a class variable which helps to verify if the title of a person is \"Mr\", \"Mrs\", \"Ms\", \"Senior Researcher\", \"Professor of CS\" or \"Computer Scientist\".\n",
    "\n",
    "An error is returned if the title is not valid.\n",
    "\n",
    "Use `__str__` defined below:\n",
    "\n",
    "```python\n",
    "    def __str__(self):\n",
    "        return self.title + ' ' + self.surname + ' ' + self.name\n",
    "```"
   ]
  },
  {
   "cell_type": "code",
   "execution_count": null,
   "metadata": {
    "id": "CLYRkzHSugvR"
   },
   "outputs": [],
   "source": [
    "#Define class Person wich stores title, name and surname. Tuple allowed_titles is a variable wich verify if the \n",
    "# title is correct: Mr, Mrs, Ms, Senior Researcher, Professor of CS or Computer Scientist\n",
    "# Your implementation here\n",
    "class Person:\n",
    "    allowed_titles = (\"Mr\", \"Mrs\", \"Ms\", \"Senior Researcher\", \"Professor of CS\", \"Computer Scientist\")\n",
    "\n",
    "    def __init__(self, title, name, surname):\n",
    "        if title not in Person.allowed_titles:\n",
    "            raise ValueError(\"The title isn't right\") # given at start of exercise, I guess this it what it was meant for\n",
    "        self.title = title\n",
    "        self.name = name\n",
    "        self.surname = surname\n",
    "    \n",
    "    # given by professor in the example\n",
    "    def __str__(self):\n",
    "        return self.title + ' ' + self.surname + ' ' + self.name\n"
   ]
  },
  {
   "cell_type": "markdown",
   "metadata": {
    "id": "ZcjB03J3ugva"
   },
   "source": [
    "**b.** Create two instances of the class Person and verify if the following entries are valid:\n",
    "\n",
    "* _Mr Ian Goodfellow_,\n",
    "* _SeniorResearcher Tomas Mikolov._"
   ]
  },
  {
   "cell_type": "code",
   "execution_count": null,
   "metadata": {
    "id": "U8jKwHK8ugvc"
   },
   "outputs": [
    {
     "name": "stdout",
     "output_type": "stream",
     "text": [
      "Mr Goodfellow Ian\n",
      "Senior Researcher Mikolov Tomas\n"
     ]
    }
   ],
   "source": [
    "# Your implementation here\n",
    "\n",
    "person1 = Person(\"Mr\", \"Ian\", \"Goodfellow\")\n",
    "print(person1)\n",
    "# I put a blank space between senior and researcher to take care of my OCD\n",
    "person2 = Person(\"Senior Researcher\", \"Tomas\", \"Mikolov\")\n",
    "print(person2)"
   ]
  },
  {
   "cell_type": "markdown",
   "metadata": {
    "id": "sJGqy2Zxugvm"
   },
   "source": [
    "### Task 2\n",
    "\n",
    "In `ScientificConference` we have been using the paper parameter as a string, but this concept requires a detailed structure.\n",
    "\n",
    "Introduce a new class, `Paper`, which has the following attributes:\n",
    "\n",
    "* `authors`, \n",
    "* `title`, \n",
    "* `a_id`,\n",
    "* `year`, \n",
    "* `status` (published or in development), \n",
    "* `peer_rating` (Excellent, Good, Fair, Poor, Barely Acceptable, Unacceptable)."
   ]
  },
  {
   "cell_type": "code",
   "execution_count": null,
   "metadata": {
    "id": "1hPZ7q3rugvn"
   },
   "outputs": [],
   "source": [
    "class Paper:\n",
    "    def __init__(self, authors, title, a_id, status, year, peer_rating):\n",
    "        self.authors = authors  \n",
    "        self.title = title\n",
    "        self.a_id = a_id\n",
    "        self.status = status  \n",
    "        self.year = year\n",
    "        self.peer_rating = peer_rating  # Excelent, Good, Fair, Poor, Barely Acceptable, Unacceptable\n",
    "\n",
    "\n",
    "    def __str__(self):\n",
    "        return  f'{self.title}, {\", \".join([author for author in self.authors])} et al. ({self.year}), a_id: '\\\n",
    "                f'{self.a_id}, status: {self.status}, rating: {self.peer_rating}'"
   ]
  },
  {
   "cell_type": "markdown",
   "metadata": {
    "id": "j82CL54Augvv"
   },
   "source": [
    "## Inheritence\n",
    "\n",
    "In Object-Oriented programming, this concept enables us to transfer the methods and the properties of a class to another class."
   ]
  },
  {
   "cell_type": "markdown",
   "metadata": {
    "id": "rZqutiFsugvw"
   },
   "source": [
    "### Task 3\n",
    "\n",
    "Create a class named `Researcher`, which inherits the properties and methods from the `Person` class. Besides, this class has an additional parameter, `papers` which is `None` by default.\n",
    "\n",
    "_Note:_ You should check if `papers` is `None` in `__init__` and set it to `[]` instead.\n",
    "\n",
    "```python\n",
    "class Researcher(Person):\n",
    "    def __init__('Add arguments'):\n",
    "        super().__init__(title, name, surname)\n",
    "```"
   ]
  },
  {
   "cell_type": "code",
   "execution_count": null,
   "metadata": {
    "id": "QCfpoVveugvy"
   },
   "outputs": [],
   "source": [
    "# Define your first researcher\n",
    "# Expected output: Senior Researcher Tomas Mikolov\n",
    "\n",
    "class Researcher(Person):\n",
    "    # inherits properties and methods from the Person class\n",
    "    def __init__(self, title, name, surname, papers=None, co_authored=False):\n",
    "        self.co_authored = co_authored\n",
    "        super().__init__(title, name, surname) \n",
    "        self.papers = papers if papers is not None else []\n",
    "\n",
    "    \"\"\" Create the `verify_co_authorship` function inside the `class Researcher` which checks if a certain researcher ever co-authored a paper.\n",
    "    _Hint:_ Use `self.co_authored = False` inside the `__init__` function.\"\"\"\n",
    "    def verify_co_authorship(self, other_researcher, papers):\n",
    "        self.co_authored = False\n",
    "        for paper in papers:\n",
    "            if self in paper.authors and other_researcher in paper.authors:\n",
    "                self.co_authored = True\n",
    "                break\n",
    "        return self.co_authored\n",
    "\n",
    "    \"\"\"\n",
    "    Implement the `get_collab` function inside the `class Researcher` to discover the papers written by two researchers.\n",
    "\n",
    "    For instance, if Yoshua Bengio is researcher2 and Ian Goodfellow is researcher3, then:\n",
    "\n",
    "`   print_papers(researcher2.get_collab(researcher3))` should output:\n",
    "\n",
    "    _Generative Adversarial Nets, Mr Ian Goodfellow et al. (2015), a_id: 5423, status: published, rating: Excelent_\n",
    "\n",
    "    _Note:_ This function helps you to print the papers from a given list.\n",
    "\n",
    "    ```python\n",
    "    def print_papers(paper_list):\n",
    "        for paper in paper_list:\n",
    "            print(paper)\n",
    "    ```\n",
    "    \"\"\"\n",
    "    def get_collab(self, other_researcher, papers):\n",
    "        collab_papers = []\n",
    "        for paper in papers:\n",
    "            if self in paper.authors and other_researcher in paper.authors:\n",
    "                collab_papers.append(paper)\n",
    "        return collab_papers\n",
    "\n",
    "    def print_papers(paper_list):\n",
    "        for paper in paper_list:\n",
    "            print(paper)\n"
   ]
  },
  {
   "cell_type": "markdown",
   "metadata": {
    "id": "40nAxy14ugv8"
   },
   "source": [
    "### Task 4\n",
    "\n",
    "Consider the following scientists:\n",
    "\n",
    "1.  Paper _Deep Learning_ published by Yann LeCun, Yoshua Bengio, Geoffrey Hinton, in _nature 521_, id = https://doi.org/10.1038/nature14539, peer_rating = Excelent.\n",
    "\n",
    "2. Paper _On the difficulty of training recurrent neural networks_ by Razvan Pascanu, Tomas Mikolov, Professor of computer science Yoshua Bengio, in ICML 2013, id = https://arxiv.org/abs/1211.5063, peer_rating = Excelent.\n",
    "\n",
    "2. Paper _Generative Adversarial Nets_ by Ian Goodfellow and Yoshua Bengio, NeurIPS 2015, id = http://papers.nips.cc/paper/5423-generative-adversarial-nets.pdf, peer_rating = Excelent.\n",
    "\n",
    "3. Paper _Handwritten Digit Recognition with a Back-Propagation Network_ by Computer Scientist Yann LeCun, NeurIPS 1989, id =  https://papers.nips.cc/paper/293-handwritten-digit-recognition-with-a-back-propagation-network, peer_rating = Excelent.\n",
    "\n",
    "4. Paper _Gated Softmax Classification_ by Geoffrey Hintorn, NeurIPS 2010, id = http://papers.neurips.cc/paper/3895-gated-softmax-classification, peer_rating = Good.\n",
    "\n",
    "_Note:_ Let us consider \"Mr\" as a default title for the researchers without a specific caption. Also, for the id of a paper, please use only integers from the provided links.\n",
    "\n",
    "**a.** Define the next 5 scientists and use them in your `paper` objects.\n",
    "\n",
    "**b.** Create the `verify_co_authorship` function inside the `class Researcher` which checks if a certain researcher ever co-authored a paper.\n",
    "_Hint:_ Use `self.co_authored = False` inside the `__init__` function.\n",
    "\n",
    "**c.** Implement the `get_collab` function inside the `class Researcher` to discover the papers written by two researchers.\n",
    "\n",
    "For instance, if Yoshua Bengio is researcher2 and Ian Goodfellow is researcher3, then:\n",
    "\n",
    "`print_papers(researcher2.get_collab(researcher3))` should output:\n",
    "\n",
    "_Generative Adversarial Nets, Mr Ian Goodfellow et al. (2015), a_id: 5423, status: published, rating: Excelent_\n",
    "\n",
    "_Note:_ This function helps you to print the papers from a given list.\n",
    "\n",
    "```python\n",
    "def print_papers(paper_list):\n",
    "    for paper in paper_list:\n",
    "        print(paper)\n",
    "```\n",
    "\n",
    "**d.** What are the papers written by Yoshua Bengio?\n",
    "\n",
    "Expected output:\n",
    "\n",
    "`Deep Learning, Computer Scientist Yann LeCun et al. (2015), a_id: 14539, status: published, rating: Excelent`\n",
    "\n",
    "`Generative Adversarial Nets, Mr Ian Goodfellow et al. (2015), a_id: 5423, status: published, rating: Excelent`\n",
    "\n",
    "`Paper On the difficulty of training recurrent neural networks, Mr Razvan Pascanu et al. (2013), a_id: 5063, status: published, rating: Excelent`\n",
    "\n",
    "**e.** Did he ever co-author a paper?\n",
    "\n",
    "**f.** Which papers are published by Yann LeCun?\n",
    "\n",
    "Expected output:\n",
    "\n",
    "`Deep Learning, Computer Scientist Yann LeCun et al. (2015), a_id: 14539, status: published, rating: Excelent`\n",
    "\n",
    "`Handwritten Digit Recognition with a Back-Propagation Network, Computer Scientist Yann LeCun et al. (1989), a_id: 293, status: published, rating: Good`"
   ]
  },
  {
   "cell_type": "code",
   "execution_count": null,
   "metadata": {},
   "outputs": [
    {
     "name": "stdout",
     "output_type": "stream",
     "text": [
      "Deep Learning, Mr LeCun Yann, Professor of CS Bengio Yoshua, Mr Hinton Geoffrey et al. (2015), a_id: 14539, status: published, rating: Excelent\n",
      "On the difficulty of training recurrent neural networks, Mr Pascanu Razvan, Senior Researcher Mikolov Tomas, Professor of CS Bengio Yoshua et al. (2013), a_id: 5063, status: published, rating: Excelent\n",
      "Generative Adversarial Nets, Mr Goodfellow Ian, Professor of CS Bengio Yoshua et al. (2015), a_id: 5423, status: published, rating: Excelent\n",
      "----------------------\n",
      "Co-authored with Ian Goodfellow?: True\n",
      "----------------------\n",
      "Deep Learning, Mr LeCun Yann, Professor of CS Bengio Yoshua, Mr Hinton Geoffrey et al. (2015), a_id: 14539, status: published, rating: Excelent\n",
      "Handwritten Digit Recognition with a Back-Propagation Network, Mr LeCun Yann et al. (1989), a_id: 293, status: published, rating: Good\n"
     ]
    }
   ],
   "source": [
    "# define next 5 scrientinsts and use them in your paper objects\n",
    "# Your implementation here\n",
    "\"\"\"\n",
    "1.  Paper _Deep Learning_ published by Yann LeCun, Yoshua Bengio, Geoffrey Hinton, in _nature 521_, id = https://doi.org/10.1038/nature14539, peer_rating = Excelent.\n",
    "\n",
    "2. Paper _On the difficulty of training recurrent neural networks_ by Razvan Pascanu, Tomas Mikolov, Professor of computer science Yoshua Bengio, in ICML 2013, id = https://arxiv.org/abs/1211.5063, peer_rating = Excelent.\n",
    "\n",
    "2. Paper _Generative Adversarial Nets_ by Ian Goodfellow and Yoshua Bengio, NeurIPS 2015, id = http://papers.nips.cc/paper/5423-generative-adversarial-nets.pdf, peer_rating = Excelent.\n",
    "\n",
    "3. Paper _Handwritten Digit Recognition with a Back-Propagation Network_ by Computer Scientist Yann LeCun, NeurIPS 1989, id =  https://papers.nips.cc/paper/293-handwritten-digit-recognition-with-a-back-propagation-network, peer_rating = Excelent.\n",
    "\n",
    "4. Paper _Gated Softmax Classification_ by Geoffrey Hintorn, NeurIPS 2010, id = http://papers.neurips.cc/paper/3895-gated-softmax-classification, peer_rating = Good.\n",
    "\"\"\"\n",
    "yann = Researcher(\"Mr\", \"Yann\", \"LeCun\")\n",
    "yoshua = Researcher(\"Professor of CS\", \"Yoshua\", \"Bengio\")\n",
    "geoffrey = Researcher(\"Mr\", \"Geoffrey\", \"Hinton\")\n",
    "razvan = Researcher(\"Mr\", \"Razvan\", \"Pascanu\")\n",
    "tomas = Researcher(\"Senior Researcher\", \"Tomas\", \"Mikolov\")\n",
    "ian = Researcher(\"Mr\", \"Ian\", \"Goodfellow\")\n",
    "\n",
    "papers = [\n",
    "    Paper([yann, yoshua, geoffrey], \"Deep Learning\", 14539, \"published\", 2015, \"Excelent\"),\n",
    "    Paper([razvan, tomas, yoshua], \"On the difficulty of training recurrent neural networks\", 5063, \"published\", 2013, \"Excelent\"),\n",
    "    Paper([ian, yoshua], \"Generative Adversarial Nets\", 5423, \"published\", 2015, \"Excelent\"),\n",
    "    Paper([yann], \"Handwritten Digit Recognition with a Back-Propagation Network\", 293, \"published\", 1989, \"Good\"),\n",
    "    Paper([geoffrey], \"Gated Softmax Classification\", 3895, \"published\", 2010, \"Good\"),\n",
    "]\n",
    "\n",
    "# helper to print a Paper using researcher __str__ for authors\n",
    "def print_paper(p):\n",
    "    authors_str = \", \".join(str(a) for a in p.authors)\n",
    "    print(f\"{p.title}, {authors_str} et al. ({p.year}), a_id: {p.a_id}, status: {p.status}, rating: {p.peer_rating}\")\n",
    "\n",
    "# function to get papers by a researcher\n",
    "def get_papers_by_researcher(researcher, papers_list):\n",
    "    return [p for p in papers_list if researcher in p.authors]\n",
    "\n",
    "# solving subtask d) \n",
    "# (d) Papers written by Yoshua Bengio\n",
    "yoshua_papers = get_papers_by_researcher(yoshua, papers)\n",
    "for p in yoshua_papers:\n",
    "    print_paper(p)\n",
    "print(\"----------------------\")\n",
    "# (e) Did he ever co-author a paper? (uses Researcher.verify_co_authorship)\n",
    "# check co-authorship with any other researcher, e.g. Ian Goodfellow\n",
    "print(\"Co-authored with Ian Goodfellow?:\", yoshua.verify_co_authorship(ian, papers))\n",
    "print(\"----------------------\")\n",
    "# (f) Papers published by Yann LeCun\n",
    "yann_papers = get_papers_by_researcher(yann, papers)\n",
    "for p in yann_papers:\n",
    "    print_paper(p)\n",
    "\n"
   ]
  },
  {
   "cell_type": "markdown",
   "metadata": {
    "id": "AImKzUZgugv9"
   },
   "source": [
    "### Task 5 \n",
    "\n",
    "Consider an updated version of the `ScientificConference` class, which should have a modified version of the function `add_manuscript`.\n",
    "\n",
    "Use the `status` and the `peer_rating` variables as a **threshold** to add papers in your `papers` dictionary. The conferences will only be accepting `Excelent` papers. For this case, the dictionary has the year of the paper as `key`, and the `values` are stored as a tuple of `(researcher, manuscript)`. For the papers which don't satisfy this condition, the message _\"Please review your submission.\"_ is displayed.\n",
    "\n",
    "For papers submitted in 2015, when printing the conference, the `str` function should output:\n",
    "\n",
    "```\n",
    "NeurIPS 2020: \n",
    "2015: \n",
    "Mr Ian Goodfellow: Generative Adversarial Nets, Mr Ian Goodfellow et al. (2015), id: 5423, status: published, rating: Excelent \n",
    "Computer Scientist Yann LeCun: Deep Learning, Computer Scientist Yann LeCun et al. (2015), id: 14539, status: published, rating: Excelent\n",
    "```"
   ]
  },
  {
   "cell_type": "code",
   "execution_count": null,
   "metadata": {
    "id": "EDsHycjEugv_"
   },
   "outputs": [
    {
     "name": "stderr",
     "output_type": "stream",
     "text": [
      "<>:2: SyntaxWarning: invalid escape sequence '\\ '\n",
      "<>:2: SyntaxWarning: invalid escape sequence '\\ '\n"
     ]
    },
    {
     "name": "stdout",
     "output_type": "stream",
     "text": [
      "Please review your submission.\n",
      "NeurIPS 2020: \n",
      "2015: \n",
      "Mr Goodfellow Ian: Generative Adversarial Nets, Mr Goodfellow Ian, Professor of CS Bengio Yoshua et al. (2015), id: 5423, status: published, rating: Excelent \n",
      "Mr LeCun Yann: Deep Learning, Mr LeCun Yann, Professor of CS Bengio Yoshua, Mr Hinton Geoffrey et al. (2015), id: 14539, status: published, rating: Excelent \n",
      "\n"
     ]
    },
    {
     "name": "stderr",
     "output_type": "stream",
     "text": [
      "C:\\Users\\PC\\AppData\\Local\\Temp\\ipykernel_7832\\2962328493.py:2: SyntaxWarning: invalid escape sequence '\\ '\n",
      "  \"\"\"\n"
     ]
    }
   ],
   "source": [
    "class ScientificConferenceUpdate:\n",
    "    \"\"\" \n",
    "    To define the properties of a class, \n",
    "    we use a special method called __init__.\n",
    "    \n",
    "    The special variable called \"self\"\n",
    "    helps with associating the attributes\n",
    "    w\\ the new object: similar to `this`\n",
    "    keyword from other programming languages\n",
    "    and required to address variables from\n",
    "    classes. \n",
    "    \"\"\"\n",
    "    def __init__(self, name, year):\n",
    "        \"\"\"\n",
    "        Establish the attributes of the\n",
    "        class and assign values to the \n",
    "        corresponding parameters.\n",
    "        \"\"\" \n",
    "        self.name = name\n",
    "        self.year = year\n",
    "        \"\"\"\n",
    "        Add new attribute `papers`\n",
    "        \"\"\"\n",
    "        self.papers = {}\n",
    "    \n",
    "    def add_manuscript(self, manuscript, researcher):\n",
    "        if getattr(manuscript, \"status\", None) == \"published\" and getattr(manuscript, \"peer_rating\", None) == \"Excelent\":\n",
    "            yr = manuscript.year\n",
    "            self.papers.setdefault(yr, [])\n",
    "            # avoid duplicates by checking paper a_id\n",
    "            if not any((p.a_id == manuscript.a_id) for (_, p) in self.papers[yr]):\n",
    "                self.papers[yr].append((researcher, manuscript))\n",
    "        else:\n",
    "            print(\"Please review your submission.\")\n",
    "\n",
    "        \n",
    "    def __str__(self):\n",
    "        \"\"\"\n",
    "        To return the String representation of\n",
    "        an object, we use the __str__ method. \n",
    "        \"\"\"\n",
    "        result = f\"{self.name} {self.year}: \\n\"\n",
    "        for year in sorted(self.papers):\n",
    "            result += f\"{year}: \\n\"\n",
    "            for (author, paper) in self.papers[year]:\n",
    "                authors_str = \", \".join(str(a) for a in paper.authors)\n",
    "                # match expected printed format (includes id, status, rating)\n",
    "                result += f\"{str(author)}: {paper.title}, {authors_str} et al. ({paper.year}), id: {paper.a_id}, status: {paper.status}, rating: {paper.peer_rating} \\n\"\n",
    "        return result\n",
    "    \n",
    "#test\n",
    "conf = ScientificConferenceUpdate(\"NeurIPS\", 2020)\n",
    "conf.add_manuscript(papers[2], ian)    # Generative Adversarial Nets (accepted)\n",
    "conf.add_manuscript(papers[0], yann)   # Deep Learning (accepted)\n",
    "conf.add_manuscript(papers[3], yann)   # Handwritten Digit (peer_rating 'Good' -> rejected)\n",
    "print(conf)\n"
   ]
  }
 ],
 "metadata": {
  "colab": {
   "collapsed_sections": [],
   "name": "Lab03_AI.ipynb",
   "provenance": []
  },
  "kernelspec": {
   "display_name": "base",
   "language": "python",
   "name": "python3"
  },
  "language_info": {
   "codemirror_mode": {
    "name": "ipython",
    "version": 3
   },
   "file_extension": ".py",
   "mimetype": "text/x-python",
   "name": "python",
   "nbconvert_exporter": "python",
   "pygments_lexer": "ipython3",
   "version": "3.12.7"
  }
 },
 "nbformat": 4,
 "nbformat_minor": 4
}
